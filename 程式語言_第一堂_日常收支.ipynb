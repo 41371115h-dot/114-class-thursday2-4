{
  "cells": [
    {
      "cell_type": "markdown",
      "metadata": {
        "id": "view-in-github",
        "colab_type": "text"
      },
      "source": [
        "<a href=\"https://colab.research.google.com/github/41371115h-dot/114-class-thursday2-4/blob/main/%E7%A8%8B%E5%BC%8F%E8%AA%9E%E8%A8%80_%E7%AC%AC%E4%B8%80%E5%A0%82_%E6%97%A5%E5%B8%B8%E6%94%B6%E6%94%AF.ipynb\" target=\"_parent\"><img src=\"https://colab.research.google.com/assets/colab-badge.svg\" alt=\"Open In Colab\"/></a>"
      ]
    },
    {
      "cell_type": "markdown",
      "source": [
        "程式語言第一堂 日常收支計算表"
      ],
      "metadata": {
        "id": "AF7N-ppXXRxs"
      }
    },
    {
      "cell_type": "code",
      "source": [],
      "metadata": {
        "id": "ftwgVBEDXCZ5"
      },
      "execution_count": null,
      "outputs": []
    }
  ],
  "metadata": {
    "colab": {
      "toc_visible": true,
      "provenance": [],
      "include_colab_link": true
    },
    "kernelspec": {
      "display_name": "Python 3",
      "name": "python3"
    }
  },
  "nbformat": 4,
  "nbformat_minor": 0
}